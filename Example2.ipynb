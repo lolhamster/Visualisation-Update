{
 "cells": [
  {
   "cell_type": "markdown",
   "metadata": {},
   "source": [
    "### Tutorial for creating Example animation 2 with FieldVis\n",
    "\n",
    "Author: Nathanyel Schut<br>\n",
    "Date: 12-06-2022"
   ]
  },
  {
   "cell_type": "code",
   "execution_count": 1,
   "metadata": {},
   "outputs": [],
   "source": [
    "from fieldvis import et_reader, field_dp, field_plot\n",
    "import h5py\n",
    "import numpy as np\n",
    "import matplotlib.pyplot as plt\n",
    "import pyvista as pv\n",
    "\n",
    "import dill\n",
    "dill.settings['recurse'] = True"
   ]
  },
  {
   "cell_type": "markdown",
   "metadata": {},
   "source": [
    "Paths to data, adjust these to where they are stored on your computer"
   ]
  },
  {
   "cell_type": "code",
   "execution_count": 2,
   "metadata": {},
   "outputs": [],
   "source": [
    "data_path = r\"C:\\Users\\lolha\\Documents\\Bachelor project\\data\"\n",
    "save_path = r\"C:\\Users\\lolha\\Documents\\Bachelor project\\Example Animation 2\""
   ]
  },
  {
   "cell_type": "markdown",
   "metadata": {},
   "source": [
    "Getting lists of the full filenames"
   ]
  },
  {
   "cell_type": "code",
   "execution_count": 3,
   "metadata": {},
   "outputs": [
    {
     "name": "stdout",
     "output_type": "stream",
     "text": [
      "Iterations: [79872] \n",
      "\n",
      "Density files: ['C:\\\\Users\\\\lolha\\\\Documents\\\\Bachelor project\\\\data\\\\rho2.xyz_it=79872.h5'] \n",
      "\n"
     ]
    }
   ],
   "source": [
    "# it_list, files_B = field_dp.find_iterations('Bvec', data_path, return_files=True)\n",
    "it_list, files_rho = field_dp.find_iterations('rho2', data_path, return_files=True)\n",
    "\n",
    "print('Iterations:', it_list, '\\n')\n",
    "# print('Magnetic field files:', files_B, '\\n')\n",
    "print('Density files:', files_rho, '\\n')"
   ]
  },
  {
   "cell_type": "markdown",
   "metadata": {},
   "source": [
    "Creating the data readers"
   ]
  },
  {
   "cell_type": "code",
   "execution_count": 4,
   "metadata": {},
   "outputs": [],
   "source": [
    "rl = 3\n",
    "\n",
    "# def data_reader_B(index):\n",
    "#     return et_reader.ET_to_numpy(rl, files_B[index*3:(index*3 + 3)])\n",
    "\n",
    "def data_reader_rho(index):\n",
    "    return et_reader.ET_to_numpy(rl, [files_rho[index]])\n",
    "\n",
    "# Bvec_data = data_reader_B(2)\n",
    "# print('Shape of the Bvec reader output:', np.shape(Bvec_data))\n",
    "# print('Type of a component of the vector data:', type(Bvec_data[0]))"
   ]
  },
  {
   "cell_type": "markdown",
   "metadata": {},
   "source": [
    "Getting grid information"
   ]
  },
  {
   "cell_type": "code",
   "execution_count": 5,
   "metadata": {},
   "outputs": [
    {
     "name": "stdout",
     "output_type": "stream",
     "text": [
      "Variable name: HYDROBASE::rho\n",
      "Iteration: 79872\n",
      "Reference levels: [0, 1, 2, 3, 4]\n",
      "Grid spacings: [0.3 0.3 0.3]\n",
      "Ghostzones: [3 3 3]\n",
      "x-range: -44.7 45.0\n",
      "y-range: -44.7 45.0\n",
      "z-range: 0.0 45.0\n"
     ]
    }
   ],
   "source": [
    "file = h5py.File(files_rho[0])\n",
    "var_name, it, tl, rl_list, c_list = et_reader.ET_file_parser(file)\n",
    "delta, ghostzones, dimensions, min_coords, max_coords = et_reader.ET_get_grid_info(var_name, it, tl, rl, c_list, file)\n",
    "\n",
    "print('Variable name:', var_name)\n",
    "print('Iteration:', it)\n",
    "print('Reference levels:', rl_list)\n",
    "print('Grid spacings:', delta)\n",
    "print('Ghostzones:', ghostzones)\n",
    "print('x-range:', round(min_coords[0], 2), round(max_coords[0], 2))\n",
    "print('y-range:', round(min_coords[1], 2), round(max_coords[1], 2))\n",
    "print('z-range:', round(min_coords[2], 2), round(max_coords[2], 2))"
   ]
  },
  {
   "cell_type": "markdown",
   "metadata": {},
   "source": [
    "Other plot settings, such as opacity and camera position"
   ]
  },
  {
   "cell_type": "code",
   "execution_count": 6,
   "metadata": {},
   "outputs": [
    {
     "data": {
      "image/png": "[encoded data removed]",
      "text/plain": [
       "<Figure size 640x480 with 1 Axes>"
      ]
     },
     "metadata": {},
     "output_type": "display_data"
    }
   ],
   "source": [
    "linear = lambda x, a, b: a*x + b\n",
    "\n",
    "opacity = linear(np.arange(0, 256, 1), 0.06, 0.010*256)\n",
    "\n",
    "# Filter out all data outside the data range provided\n",
    "opacity[0] = 0\n",
    "\n",
    "# Camera position, focal point and up vector\n",
    "cpos = [(206.89799772877606, 178.51497042458308, 117.82139065452431),\n",
    " (4.056453101363986, 1.332431917323678, -12.99127038038598),\n",
    " (-0.3622863981685915, -0.24848270546213305, 0.8983345205368921)]\n",
    "\n",
    "plt.plot(opacity/256);\n",
    "plt.ylabel('Transparency');\n",
    "plt.xlabel('Color number');"
   ]
  },
  {
   "cell_type": "markdown",
   "metadata": {},
   "source": [
    "Dictionaries with plot settings"
   ]
  },
  {
   "cell_type": "code",
   "execution_count": 12,
   "metadata": {},
   "outputs": [],
   "source": [
    "kwargs = {\n",
    "    'window_size': [600, 1000],\n",
    "    'position': cpos[0],\n",
    "    'focal_point': cpos[1],\n",
    "    'up': cpos[2],\n",
    "    'background_color': '#9e9e9e',\n",
    "    'transparent_background': False,\n",
    "    'off_screen': False,\n",
    "    'screenshot': False,\n",
    "    'show_grid': False,\n",
    "    'return_cpos': False,\n",
    "    'notebook': True,\n",
    "    'jupyter_backend': 'static',\n",
    "    'anti_aliasing': True,\n",
    "    'multi_samples': 4\n",
    "}\n",
    "\n",
    "rho_kwargs = {\n",
    "    'spacing': delta,\n",
    "    'origin': [-44.7, -44.7, 0],\n",
    "    'cmap': 'RdBu_r',\n",
    "    'log_scale': True,\n",
    "    'clim': [-7, -2],\n",
    "    'mapper': 'gpu',\n",
    "    'scalar_bar_args': {'use_opacity': False},\n",
    "    'opacity': opacity,\n",
    "    'n_colors': 256,\n",
    "    'shade': True,\n",
    "    'mirror_z': True,\n",
    "    'name': 'Density field',\n",
    "    'volume_or_isosurface': 'isosurface',\n",
    "    'isosurface_thresholds': [-3],\n",
    "    'isosurface_opacity': 0.5\n",
    "}\n",
    "\n",
    "# field_line_kwargs = {\n",
    "#     'spacing': delta,\n",
    "#     'origin': [-44.7, -44.7, 0],\n",
    "#     'source_center': [0, 0, 0],\n",
    "#     'n_points': 40,\n",
    "#     'radius': 0.25,\n",
    "#     'source_radius': 5.9,\n",
    "#     'cmap': 'twilight_shifted',\n",
    "#     'log_scale': True,\n",
    "#     'mirror_z': True,\n",
    "#     'scalar_bar_args': {'n_labels': 3},\n",
    "#     'name': 'Magnetic field'\n",
    "# }"
   ]
  },
  {
   "cell_type": "markdown",
   "metadata": {},
   "source": [
    "Creating the plot"
   ]
  },
  {
   "cell_type": "code",
   "execution_count": 13,
   "metadata": {},
   "outputs": [
    {
     "data": {
      "image/png": "[encoded data removed]",
      "text/plain": [
       "<PIL.Image.Image image mode=RGB size=600x1000>"
      ]
     },
     "metadata": {},
     "output_type": "display_data"
    }
   ],
   "source": [
    "# Bvec_data = data_reader_B(1)\n",
    "rho_data = data_reader_rho(0)\n",
    "\n",
    "# streamlines, B_kwargs = field_dp.get_plot_object(Bvec_data, **field_line_kwargs)\n",
    "volume, rho_kwargs = field_dp.get_plot_object(rho_data, **rho_kwargs)\n",
    "\n",
    "field_plot.plotter([volume], [rho_kwargs], plotter_settings=kwargs)\n",
    "# field_plot.plotter([streamlines, volume], [B_kwargs, rho_kwargs], plotter_settings=kwargs)"
   ]
  },
  {
   "cell_type": "markdown",
   "metadata": {},
   "source": [
    "Creating the animation"
   ]
  },
  {
   "cell_type": "code",
   "execution_count": 14,
   "metadata": {},
   "outputs": [],
   "source": [
    "# kwargs['notebook'] = False\n",
    "# kwargs['window_size'] = [1200, 2000]\n",
    "\n",
    "# field_plot.animator([data_reader_rho], [rho_kwargs], save_path=save_path, n_datasets=len(it_list), n_processes=4, **kwargs)\n",
    "# field_plot.animator([data_reader_rho, data_reader_B], [rho_kwargs, field_line_kwargs], save_path=save_path, n_datasets=len(it_list), n_processes=4, **kwargs)"
   ]
  }
 ],
 "metadata": {
  "interpreter": {
   "hash": "3346f6a6795930f444ad76a8bbc7a0feceb859dc4e9d01bf97da41cc2148c2c2"
  },
  "kernelspec": {
   "display_name": "Python 3.8.5 ('base')",
   "language": "python",
   "name": "python3"
  },
  "language_info": {
   "codemirror_mode": {
    "name": "ipython",
    "version": 3
   },
   "file_extension": ".py",
   "mimetype": "text/x-python",
   "name": "python",
   "nbconvert_exporter": "python",
   "pygments_lexer": "ipython3",
   "version": "3.11.5"
  },
  "orig_nbformat": 4
 },
 "nbformat": 4,
 "nbformat_minor": 2
}
